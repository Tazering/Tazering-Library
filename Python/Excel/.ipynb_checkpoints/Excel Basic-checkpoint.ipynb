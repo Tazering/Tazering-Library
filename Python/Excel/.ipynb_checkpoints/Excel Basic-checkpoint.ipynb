{
 "cells": [
  {
   "cell_type": "code",
   "execution_count": 1,
   "id": "7aa48677",
   "metadata": {},
   "outputs": [],
   "source": [
    "# import necessary libraries\n",
    "import xlsxwriter\n",
    "import pandas as pd\n",
    "from openpyxl import load_workbook"
   ]
  },
  {
   "cell_type": "code",
   "execution_count": 3,
   "id": "bb30eb5b",
   "metadata": {},
   "outputs": [],
   "source": [
    "# creates workbook and worksheet\n",
    "workbook = xlsxwriter.Workbook(\"workbook01.xlsx\")\n",
    "worksheet = workbook.add_worksheet()"
   ]
  },
  {
   "cell_type": "code",
   "execution_count": 4,
   "id": "59e440f3",
   "metadata": {},
   "outputs": [],
   "source": [
    "# examples things to write\n",
    "expenses = (\n",
    "[\"First Name\", \"Tyler\"],\n",
    "[\"Last Name\", \"Kim\"],\n",
    "[\"Id\", 17],\n",
    "[\"Computing ID\", \"tkj9ep\"])"
   ]
  },
  {
   "cell_type": "code",
   "execution_count": 5,
   "id": "9c8e6965",
   "metadata": {},
   "outputs": [],
   "source": [
    "# add entries into the worksheet\n",
    "row = 0\n",
    "col = 0\n",
    "\n",
    "for key, value in (expenses):\n",
    "    worksheet.write(row, col, key)\n",
    "    worksheet.write(row, col + 1, value)\n",
    "    row += 1"
   ]
  },
  {
   "cell_type": "code",
   "execution_count": 6,
   "id": "42e0a38b",
   "metadata": {},
   "outputs": [],
   "source": [
    "# write total\n",
    "worksheet.write(row, 0, \"Total\")\n",
    "worksheet.write(row, 1, \"=SUM(B1:B4)\")\n",
    "\n",
    "workbook.close()"
   ]
  },
  {
   "cell_type": "code",
   "execution_count": null,
   "id": "9ae0fb61",
   "metadata": {},
   "outputs": [],
   "source": []
  },
  {
   "cell_type": "code",
   "execution_count": 9,
   "id": "fde9897d",
   "metadata": {},
   "outputs": [],
   "source": [
    "# adding new sheet\n",
    "template_workbook = load_workbook(\"workbook01.xlsx\")\n",
    "template_workbook.create_sheet(\"Copied Sheet\")\n",
    "template_workbook.save(\"workbook01.xlsx\")"
   ]
  },
  {
   "cell_type": "code",
   "execution_count": null,
   "id": "79ae1faa",
   "metadata": {},
   "outputs": [],
   "source": [
    "# modifying existing sheet\n",
    "modified_workbook = Workbook(\"workbook01.xlsx\")\n",
    "sheets = workbook.getWorksheets()"
   ]
  },
  {
   "cell_type": "code",
   "execution_count": 5,
   "id": "0cdfca4b",
   "metadata": {},
   "outputs": [
    {
     "name": "stdout",
     "output_type": "stream",
     "text": [
      "   Monday  Tuesday  Wednesday  Thursday  Friday\n",
      "0       1   423423         23       234       4\n",
      "1       2     1241          4      2342       4\n",
      "2     213        2        234        32       2\n"
     ]
    }
   ],
   "source": [
    "df1 = pd.read_excel(\"workbook01.xlsx\", sheet_name = \"Sheet1\")\n",
    "\n",
    "print(df1)"
   ]
  },
  {
   "cell_type": "code",
   "execution_count": 6,
   "id": "695cb4a9",
   "metadata": {},
   "outputs": [
    {
     "name": "stdout",
     "output_type": "stream",
     "text": [
      "   Wednesday  Thursday  Friday\n",
      "0         23       234       4\n",
      "1          4      2342       4\n",
      "2        234        32       2\n"
     ]
    }
   ],
   "source": [
    "df2 = df1.iloc[:, 2:]\n",
    "\n",
    "print(df2)"
   ]
  },
  {
   "cell_type": "code",
   "execution_count": 9,
   "id": "81f4b451",
   "metadata": {},
   "outputs": [],
   "source": [
    "df2.to_excel(\"output.xlsx\", sheet_name = \"correct sheet\")"
   ]
  },
  {
   "cell_type": "code",
   "execution_count": 35,
   "id": "da90fc7e",
   "metadata": {},
   "outputs": [
    {
     "name": "stdout",
     "output_type": "stream",
     "text": [
      "       index  Total\n",
      "0  Wednesday    261\n",
      "1   Thursday   2608\n",
      "2     Friday     10\n"
     ]
    }
   ],
   "source": [
    "df3 = pd.DataFrame(df2.sum(), columns = [\"Total\"]).reset_index(drop = True)\n",
    "print(df3)\n",
    "\n",
    "#print(totalDF)"
   ]
  },
  {
   "cell_type": "code",
   "execution_count": 30,
   "id": "d44ab7d1",
   "metadata": {},
   "outputs": [],
   "source": [
    "df4 = pd.concat([df2, df3], axis = 1, join = \"inner\")\n",
    "\n",
    "df4.to_excel(\"output.xlsx\", sheet_name = \"correct sheet\")"
   ]
  },
  {
   "cell_type": "code",
   "execution_count": null,
   "id": "9bce5a65",
   "metadata": {},
   "outputs": [],
   "source": []
  }
 ],
 "metadata": {
  "kernelspec": {
   "display_name": "Python 3 (ipykernel)",
   "language": "python",
   "name": "python3"
  },
  "language_info": {
   "codemirror_mode": {
    "name": "ipython",
    "version": 3
   },
   "file_extension": ".py",
   "mimetype": "text/x-python",
   "name": "python",
   "nbconvert_exporter": "python",
   "pygments_lexer": "ipython3",
   "version": "3.9.12"
  }
 },
 "nbformat": 4,
 "nbformat_minor": 5
}
