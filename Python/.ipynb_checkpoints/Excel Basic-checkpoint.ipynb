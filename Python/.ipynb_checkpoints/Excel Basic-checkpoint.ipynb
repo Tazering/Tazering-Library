{
 "cells": [
  {
   "cell_type": "code",
   "execution_count": 2,
   "id": "7aa48677",
   "metadata": {},
   "outputs": [],
   "source": [
    "# import necessary libraries\n",
    "import xlsxwriter"
   ]
  },
  {
   "cell_type": "code",
   "execution_count": 4,
   "id": "bb30eb5b",
   "metadata": {},
   "outputs": [],
   "source": [
    "# creates workbook and worksheet\n",
    "workbook = xlsxwriter.Workbook(\"workbook01.xlsx\")\n",
    "worksheet = workbook.add_worksheet()"
   ]
  },
  {
   "cell_type": "code",
   "execution_count": 7,
   "id": "59e440f3",
   "metadata": {},
   "outputs": [],
   "source": [
    "# examples things to write\n",
    "expenses = (\n",
    "[\"First Name\", \"Tyler\"],\n",
    "[\"Last Name\", \"Kim\"],\n",
    "[\"Id\", 17],\n",
    "[\"Computing ID\", \"tkj9ep\"])"
   ]
  },
  {
   "cell_type": "code",
   "execution_count": 9,
   "id": "9c8e6965",
   "metadata": {},
   "outputs": [],
   "source": [
    "# add entries into the worksheet\n",
    "row = 0\n",
    "col = 0\n",
    "\n",
    "for key, value in (expenses):\n",
    "    worksheet.write(row, col, key)\n",
    "    worksheet.write(row, col + 1, value)\n",
    "    row += 1"
   ]
  },
  {
   "cell_type": "code",
   "execution_count": 10,
   "id": "42e0a38b",
   "metadata": {},
   "outputs": [],
   "source": [
    "# write total\n",
    "worksheet.write(row, 0, \"Total\")\n",
    "worksheet.write(row, 1, \"=SUM(B1:B4)\")\n",
    "\n",
    "workbook.close()"
   ]
  },
  {
   "cell_type": "code",
   "execution_count": null,
   "id": "9ae0fb61",
   "metadata": {},
   "outputs": [],
   "source": []
  }
 ],
 "metadata": {
  "kernelspec": {
   "display_name": "Python 3 (ipykernel)",
   "language": "python",
   "name": "python3"
  },
  "language_info": {
   "codemirror_mode": {
    "name": "ipython",
    "version": 3
   },
   "file_extension": ".py",
   "mimetype": "text/x-python",
   "name": "python",
   "nbconvert_exporter": "python",
   "pygments_lexer": "ipython3",
   "version": "3.9.12"
  }
 },
 "nbformat": 4,
 "nbformat_minor": 5
}
